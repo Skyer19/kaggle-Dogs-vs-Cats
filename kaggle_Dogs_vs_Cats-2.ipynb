{
  "nbformat": 4,
  "nbformat_minor": 0,
  "metadata": {
    "colab": {
      "name": "kaggle Dogs vs Cats.ipynb",
      "provenance": [],
      "collapsed_sections": [],
      "toc_visible": true
    },
    "kernelspec": {
      "display_name": "Python 3",
      "name": "python3"
    },
    "language_info": {
      "name": "python"
    }
  },
  "cells": [
    {
      "cell_type": "code",
      "metadata": {
        "colab": {
          "base_uri": "https://localhost:8080/"
        },
        "id": "J0Dcnlo8zTTW",
        "outputId": "c8490761-9bb3-4452-d9d7-c4c071646471"
      },
      "source": [
        "from google.colab import drive\n",
        "drive.mount('/content/drive')"
      ],
      "execution_count": 2,
      "outputs": [
        {
          "output_type": "stream",
          "text": [
            "Drive already mounted at /content/drive; to attempt to forcibly remount, call drive.mount(\"/content/drive\", force_remount=True).\n"
          ],
          "name": "stdout"
        }
      ]
    },
    {
      "cell_type": "code",
      "metadata": {
        "id": "w6Xs2axHzX-B"
      },
      "source": [
        "import os\n",
        "os.chdir(\"/content/drive/My Drive/Colab Notebooks\")"
      ],
      "execution_count": 3,
      "outputs": []
    },
    {
      "cell_type": "code",
      "metadata": {
        "id": "MNpnvpDiza3u"
      },
      "source": [
        "import numpy as np\n",
        "import torch\n",
        "import torch.nn as nn\n",
        "from torch.autograd import Variable\n",
        "import torch.nn.functional as F\n",
        "import torchvision\n",
        "import torch.optim as optim\n",
        "from torchvision import transforms\n",
        "from tqdm import *\n",
        "import matplotlib.pyplot as plt\n",
        "import copy\n",
        "from torch.autograd.gradcheck import zero_gradients\n",
        "import pandas  as pd \n",
        "import seaborn as sns\n",
        "import re\n",
        "import torch.utils.data as data\n",
        "import zipfile\n",
        "from PIL import Image"
      ],
      "execution_count": 4,
      "outputs": []
    },
    {
      "cell_type": "code",
      "metadata": {
        "id": "ESFVQdkb5BQ7"
      },
      "source": [
        "# device = torch.device(\"cuda\" if torch.cuda.is_available() else \"cpu\")"
      ],
      "execution_count": 5,
      "outputs": []
    },
    {
      "cell_type": "code",
      "metadata": {
        "id": "QqcN76Qb5CNT"
      },
      "source": [
        "# 解压文件\n",
        "# ! unzip ./dog_vs_cats/test1.zip \n",
        "# ! unzip ./dog_vs_cats/train.zip "
      ],
      "execution_count": 6,
      "outputs": []
    },
    {
      "cell_type": "code",
      "metadata": {
        "id": "mnD-G4w19JwW"
      },
      "source": [
        "# 图片参数\n",
        "IMAGE_H = 200\n",
        "IMAGE_W = 200"
      ],
      "execution_count": 7,
      "outputs": []
    },
    {
      "cell_type": "code",
      "metadata": {
        "id": "3JWf5Gkb9p_D"
      },
      "source": [
        "data_transform = transforms.Compose([\n",
        "    transforms.ToTensor()   \n",
        "])"
      ],
      "execution_count": 8,
      "outputs": []
    },
    {
      "cell_type": "code",
      "metadata": {
        "id": "CH7FYCRv8ikF"
      },
      "source": [
        "class DogsVSCatsDataset(data.Dataset):      \n",
        "    def __init__(self, mode, dir):          \n",
        "        self.mode = mode\n",
        "        self.list_img = []                 \n",
        "        self.list_label = []                \n",
        "        self.data_size = 0                  \n",
        "        self.transform = data_transform    \n",
        "\n",
        "        if self.mode == 'train':            \n",
        "            dir = './dog_vs_cats/train/'          \n",
        "            for file in os.listdir(dir):    \n",
        "                self.list_img.append(dir + file)        \n",
        "                self.data_size += 1                     \n",
        "                name = file.split(sep='.')    \n",
        "\n",
        "                if name[0] == 'cat':\n",
        "                      self.list_label.append(0)         \n",
        "                else:\n",
        "                      self.list_label.append(1)         \n",
        "        elif self.mode == 'test1':          \n",
        "            dir = './dog_vs_cats/test1/'            \n",
        "            for file in os.listdir(dir):\n",
        "                self.list_img.append(dir + file)    \n",
        "                self.data_size += 1\n",
        "                self.list_label.append(2)       \n",
        "            #  self.list_img.sort(key=lambda x: int(x[20:-4]))\n",
        "        else:\n",
        "            return print('Undefined Dataset!')\n",
        "\n",
        "    def __getitem__(self, item):            \n",
        "        if self.mode == 'train':                                        \n",
        "            img = Image.open(self.list_img[item])                       \n",
        "            img = img.resize((IMAGE_H, IMAGE_W))                       \n",
        "            img = np.array(img)[:, :, :3]                               \n",
        "            label = self.list_label[item]                              \n",
        "            return self.transform(img), torch.LongTensor([label])      \n",
        "        elif self.mode == 'test1':                                       \n",
        "            img = Image.open(self.list_img[item])\n",
        "            # 重置大小\n",
        "            img = img.resize((200, 200))\n",
        "            img = np.array(img)[:, :, :3]\n",
        "            return self.transform(img)                                  \n",
        "        else:\n",
        "            print('None')\n",
        "\n",
        "    def __len__(self):\n",
        "        return self.data_size             \n",
        "\n"
      ],
      "execution_count": 9,
      "outputs": []
    },
    {
      "cell_type": "code",
      "metadata": {
        "id": "igHMYbye8inZ"
      },
      "source": [
        "class Net(nn.Module):                                       \n",
        "    def __init__(self):                                     \n",
        "        super(Net, self).__init__()                         \n",
        "        self.conv1 = torch.nn.Conv2d(3, 16, 3, padding=1)   \n",
        "        self.conv2 = torch.nn.Conv2d(16, 16, 3, padding=1)  \n",
        "\n",
        "        self.f1 = nn.Linear(50*50*16, 128)                 \n",
        "        self.f2 = nn.Linear(128, 64)                       \n",
        "        self.f3 = nn.Linear(64, 2)                         \n",
        "\n",
        "    def forward(self, x):                   \n",
        "        x = self.conv1(x)                   \n",
        "        x = F.relu(x)                       \n",
        "        x = F.max_pool2d(x, 2)              \n",
        "\n",
        "        x = self.conv2(x)                   \n",
        "        x = F.relu(x)                       \n",
        "        x = F.max_pool2d(x, 2)              \n",
        "\n",
        "        x = x.view(x.size()[0], -1)         \n",
        "        x = F.relu(self.f1(x))            \n",
        "        x = F.relu(self.f2(x))             \n",
        "        x = self.f3(x)                     \n",
        "\n",
        "        return F.softmax(x, dim=1)          \n"
      ],
      "execution_count": 10,
      "outputs": []
    },
    {
      "cell_type": "markdown",
      "metadata": {
        "id": "Ng-wvLsxF060"
      },
      "source": [
        "## 训练网络"
      ]
    },
    {
      "cell_type": "code",
      "metadata": {
        "colab": {
          "base_uri": "https://localhost:8080/"
        },
        "id": "jdQUN5__F3Mv",
        "outputId": "34e382d0-bbcc-4dd2-8933-c32393055b92"
      },
      "source": [
        "# train net\n",
        "from torch.utils.data import DataLoader as DataLoader\n",
        "import torch\n",
        "from torch.autograd import Variable\n",
        "import torch.nn as nn\n",
        "\n",
        "dataset_dir = './dog_vs_cats/'       # 数据集路径\n",
        "workers = 2                          # PyTorch读取数据线程数量\n",
        "batch_size = 16                      # batch_size大小\n",
        "lr = 0.0001                          # 学习率\n",
        "Epoch = 4\n",
        "\n",
        "# 实例化测试数据集\n",
        "datafile_train = DogsVSCatsDataset('train', dataset_dir)      \n",
        "dataloader = DataLoader(datafile_train, batch_size=batch_size, shuffle=True, num_workers=workers)    \n",
        "print('Dataset loaded! length of train set is {0}'.format(len(datafile_train)))\n",
        "\n",
        "model = Net()                       \n",
        "# model = model.to(device)               \n",
        "\n",
        "# 优化器\n",
        "optimizer = torch.optim.Adam(model.parameters(), lr=lr)         \n",
        "criterion = torch.nn.CrossEntropyLoss()                         \n",
        "\n",
        "cnt = 0             # 训练图片数量\n",
        "\n",
        "for epoch in range(Epoch):\n",
        "  cnt = 0 \n",
        "  for img, label in dataloader:       \n",
        "    if cnt==100: break\n",
        "    out = model(img)                                                   \n",
        "    loss = criterion(out, label.squeeze())      \n",
        "    loss.backward()                             \n",
        "    optimizer.step()                            \n",
        "    optimizer.zero_grad()                       \n",
        "    cnt += 1\n",
        "    # print('Frame {0}, train_loss {1}'.format(cnt*batch_size, loss/batch_size))          # 打印一个batch size的训练结果\n",
        "  print(\"Epoch {0} finished.\".format(epoch))\n",
        "torch.save(model, 'net.pkl')\n",
        "print(\"ok\")\n",
        "\n"
      ],
      "execution_count": 12,
      "outputs": [
        {
          "output_type": "stream",
          "text": [
            "Dataset loaded! length of train set is 25000\n",
            "Epoch 0 finished.\n",
            "Epoch 1 finished.\n",
            "Epoch 2 finished.\n",
            "Epoch 3 finished.\n",
            "ok\n"
          ],
          "name": "stdout"
        }
      ]
    },
    {
      "cell_type": "markdown",
      "metadata": {
        "id": "VlnnfbdvFhk_"
      },
      "source": [
        "## 测试网络"
      ]
    },
    {
      "cell_type": "code",
      "metadata": {
        "id": "_XLYdQc_FjFN"
      },
      "source": [
        "# from getdata import DogsVSCatsDataset as DVCD\n",
        "# from network import Net\n",
        "import torch\n",
        "from torch.autograd import Variable\n",
        "import numpy as np\n",
        "import csv\n",
        "import matplotlib.pyplot as plt\n",
        "from PIL import Image\n",
        "\n",
        "\n",
        "\n",
        "dataset_dir = './dog_vs_cats'                 # 数据集路径\n",
        "\n",
        "f = open(\"./dog_vs_cats/sampleSubmission.csv\",\"w\",encoding=\"utf-8\",newline=\"\")\n",
        "csv_writer = csv.writer(f)\n",
        "csv_writer.writerow([\"id\",\"label\"])\n",
        "\n",
        "model.to(device)                                        \n",
        "# model.eval()                                        # 设定为评估模式，即计算过程中不要dropout\n",
        "\n",
        "datafile_test = DogsVSCatsDataset('test1', dataset_dir)               \n",
        "print('Dataset loaded! length of train set is {0}'.format(len(datafile_test)))\n",
        "for index in range(0,20):\n",
        "  img = datafile_test.__getitem__(index)                           # 获取一个图像\n",
        "  img = img.unsqueeze(0)                                     \n",
        "  out = model(img)                                           \n",
        "  if out[0, 0] > out[0, 1]:                   # 猫的概率大于狗\n",
        "      print('the image is a cat')\n",
        "      label = 0\n",
        "  else:                                       # 猫的概率小于狗\n",
        "      print('the image is a dog')\n",
        "      label = 1\n",
        "  print(\"{0} {1}\".format(index+1,label))\n",
        "  print(datafile_test.list_img[index])\n",
        "  namefile = datafile_test.list_img[index].split(\".\")\n",
        "  print(namefile[])\n",
        "  csv_writer.writerow([index+1,label])\n",
        "  img = Image.open(datafile_test.list_img[index])      # 打开测试的图片\n",
        "  plt.figure('image')                             # 利用matplotlib库显示图片\n",
        "  plt.imshow(img)\n",
        "  plt.show()\n"
      ],
      "execution_count": null,
      "outputs": []
    },
    {
      "cell_type": "code",
      "metadata": {
        "id": "BI_V8TjvjtaA"
      },
      "source": [
        "r = []\n",
        "with open(\"./dog_vs_cats/sampleSubmission.csv\",encoding = 'utf-8') as text:\n",
        "    row = csv.reader(text, delimiter = ',')\n",
        "    for r in row:\n",
        "        print(r)\n",
        "\n"
      ],
      "execution_count": null,
      "outputs": []
    },
    {
      "cell_type": "code",
      "metadata": {
        "id": "EKcBC5LCJ8rO"
      },
      "source": [
        ""
      ],
      "execution_count": null,
      "outputs": []
    }
  ]
}